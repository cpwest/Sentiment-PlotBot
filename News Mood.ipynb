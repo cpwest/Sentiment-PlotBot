{
 "cells": [
  {
   "cell_type": "code",
   "execution_count": null,
   "metadata": {},
   "outputs": [],
   "source": [
    "# Include a written description of three observable \n",
    "#     trends based on the data"
   ]
  },
  {
   "cell_type": "code",
   "execution_count": null,
   "metadata": {},
   "outputs": [],
   "source": [
    "# import tweepy, pandas, matplotlib, and VADER"
   ]
  },
  {
   "cell_type": "code",
   "execution_count": null,
   "metadata": {},
   "outputs": [],
   "source": [
    "# Your final Jupyter notebook must:\n",
    "\n",
    "\n",
    "# Pull last 100 tweets from each outlet.\n",
    "\n",
    "# Perform a sentiment analysis with the compound, \n",
    "#     positive, neutral, and negative scoring for each tweet.\n",
    "\n",
    "# Pull into a DataFrame the tweet's source account, \n",
    "#     its text, its date, and its compound, positive, \n",
    "#     neutral, and negative sentiment scores.\n",
    "\n",
    "# Export the data in the DataFrame into a CSV file.\n",
    "\n",
    "# Save PNG images for each plot."
   ]
  },
  {
   "cell_type": "code",
   "execution_count": 1,
   "metadata": {},
   "outputs": [],
   "source": [
    "# The first plot will be and/or feature the following:\n",
    "\n",
    "\n",
    "# Be a scatter plot of sentiments of the last 100 \n",
    "#   tweets sent out by each news organization, ranging \n",
    "#   from -1.0 to 1.0, where a score of 0 expresses a \n",
    "#   neutral sentiment, -1 the most negative sentiment \n",
    "#   possible, and +1 the most positive sentiment possible.\n",
    "\n",
    "# Each plot point will reflect the compound sentiment \n",
    "#   of a tweet.\n",
    "\n",
    "# Sort each plot point by its relative timestamp."
   ]
  },
  {
   "cell_type": "code",
   "execution_count": 2,
   "metadata": {},
   "outputs": [],
   "source": [
    "# The second plot will be a bar plot visualizing the \n",
    "\n",
    "# overall sentiments of the last 100 tweets from each \n",
    "\n",
    "# organization. For this plot, you will again aggregate \n",
    "\n",
    "# the compound sentiments analyzed by VADER."
   ]
  },
  {
   "cell_type": "code",
   "execution_count": null,
   "metadata": {},
   "outputs": [],
   "source": []
  },
  {
   "cell_type": "code",
   "execution_count": null,
   "metadata": {},
   "outputs": [],
   "source": []
  }
 ],
 "metadata": {
  "kernelspec": {
   "display_name": "Python 3",
   "language": "python",
   "name": "python3"
  },
  "language_info": {
   "codemirror_mode": {
    "name": "ipython",
    "version": 3
   },
   "file_extension": ".py",
   "mimetype": "text/x-python",
   "name": "python",
   "nbconvert_exporter": "python",
   "pygments_lexer": "ipython3",
   "version": "3.6.5"
  }
 },
 "nbformat": 4,
 "nbformat_minor": 2
}
